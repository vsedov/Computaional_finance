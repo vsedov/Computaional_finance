{
 "cells": [
  {
   "cell_type": "markdown",
   "metadata": {},
   "source": [
    "# Coursework \n",
    "\n",
    "- X1 = 120\n",
    "- X2 = 98\n",
    "Consider options with strike prices X1 and X2 of 4 types (European and\n",
    "American puts and calls) with the time to maturity equal to 6 months (1/2 of\n",
    "a year).\n",
    "In total this amounts to 8 different options.\n",
    "Suppose the following holds:\n",
    "- current stock price S0 is 100p;\n",
    "- annual volatility is 20%;\n",
    "- money can be invested at the annual interest rate (with continuous com-\n",
    "pounding) of 5% and the investment is virtually riskless; money can be\n",
    "borrowed at the same rate."
   ]
  },
  {
   "cell_type": "markdown",
   "metadata": {},
   "source": [
    "# Imports"
   ]
  },
  {
   "cell_type": "code",
   "execution_count": 1,
   "metadata": {},
   "outputs": [],
   "source": [
    "import math\n",
    "import random\n",
    "\n",
    "import matplotlib.pyplot as plt\n",
    "import numpy as np\n",
    "import scipy.stats as st\n",
    "from scipy.stats import norm"
   ]
  },
  {
   "cell_type": "markdown",
   "metadata": {},
   "source": [
    "# Globals"
   ]
  },
  {
   "cell_type": "code",
   "execution_count": 2,
   "metadata": {},
   "outputs": [
    {
     "name": "stdout",
     "output_type": "stream",
     "text": [
      "X1: 120\n",
      "X2: 96\n"
     ]
    }
   ],
   "source": [
    "enable_random_fixed_seed = True \n",
    "\n",
    "S0 = 100\n",
    "\n",
    "# strike prices\n",
    "X1 =  120\n",
    "X2 = 98\n",
    " \n",
    "T = 0.5\n",
    "r = 0.05\n",
    "sigma = 0.2\n",
    "\n",
    "np.random.seed(0) if enable_random_fixed_seed else None\n",
    "    \n",
    "print(f\"X1: {X1}\")\n",
    "print(f\"X2: {X2}\")"
   ]
  },
  {
   "cell_type": "markdown",
   "metadata": {},
   "source": [
    "# Black Scholes Algorithm "
   ]
  },
  {
   "cell_type": "code",
   "execution_count": 3,
   "metadata": {},
   "outputs": [],
   "source": [
    "def bs(S0, K, T, r, sigma, option_type):\n",
    "    d1 = (math.log(S0 / K) + (r + 0.5 * sigma**2) * T) / (\n",
    "        sigma * math.sqrt(T)\n",
    "    )\n",
    "    d2 = (math.log(S0 / K) + (r - 0.5 * sigma**2) * T) / (\n",
    "        sigma * math.sqrt(T)\n",
    "    )\n",
    "    if option_type == \"call\":\n",
    "        return S0 * st.norm.cdf(d1) - K * math.exp(-r * T) * st.norm.cdf(d2)\n",
    "    elif option_type == \"put\":\n",
    "        return K * math.exp(-r * T) * st.norm.cdf(-d2) - S0 * st.norm.cdf(-d1)\n"
   ]
  },
  {
   "cell_type": "markdown",
   "metadata": {},
   "source": [
    "# Mone_Carlo"
   ]
  },
  {
   "cell_type": "code",
   "execution_count": 4,
   "metadata": {},
   "outputs": [],
   "source": [
    "def montecarlo(S0, K, T, r, sigma, option_type, n_simulations, n_steps):\n",
    "    dt = T / n_steps\n",
    "    stock_prices = np.zeros((n_simulations, n_steps + 1))\n",
    "    stock_prices[:, 0] = S0\n",
    "    for i in range(n_steps):\n",
    "        eps = np.random.normal(0, 1, n_simulations)\n",
    "        stock_prices[:, i + 1] = stock_prices[:, i] * np.exp(\n",
    "            (r - 0.5 * sigma**2) * dt + sigma * np.sqrt(dt) * eps\n",
    "        )\n",
    "    if option_type == \"call\":\n",
    "        payoff = np.maximum(stock_prices[:, -1] - K, 0)\n",
    "    elif option_type == \"put\":\n",
    "        payoff = np.maximum(K - stock_prices[:, -1], 0)\n",
    "    else:\n",
    "        raise ValueError(\"Invalid option type\")\n",
    "\n",
    "    discounted_payoff = np.exp(-r * T) * payoff\n",
    "    return np.mean(discounted_payoff)\n"
   ]
  },
  {
   "cell_type": "markdown",
   "metadata": {},
   "source": [
    "# Binomial Tree"
   ]
  },
  {
   "cell_type": "code",
   "execution_count": 5,
   "metadata": {},
   "outputs": [],
   "source": [
    "def trees(S0, K, T, r, sigma, option_type, n=1000, american=False):\n",
    "    delta_t = T / n\n",
    "    u = np.exp(sigma * np.sqrt(delta_t))\n",
    "    d = 1 / u\n",
    "    p = (np.exp(r * delta_t) - d) / (u - d)\n",
    "    tree = np.zeros((n + 1, n + 1))\n",
    "    for i in range(n + 1):\n",
    "        for j in range(i + 1):\n",
    "            tree[j, i] = S0 * (d**j) * (u ** (i - j))\n",
    "    if option_type == \"call\":\n",
    "        option_values = np.maximum(tree[:, -1] - K, 0)\n",
    "    elif option_type == \"put\":\n",
    "        option_values = np.maximum(K - tree[:, -1], 0)\n",
    "    for i in range(n - 1, -1, -1):\n",
    "        for j in range(i + 1):\n",
    "            option_values[j] = np.exp(-r * delta_t) * (\n",
    "                p * option_values[j] + (1 - p) * option_values[j + 1]\n",
    "            )\n",
    "            if american:\n",
    "                if option_type == \"call\":\n",
    "                    option_values[j] = np.maximum(\n",
    "                        option_values[j], tree[j, i] - K\n",
    "                    )\n",
    "                elif option_type == \"put\":\n",
    "                    option_values[j] = np.maximum(\n",
    "                        option_values[j], K - tree[j, i]\n",
    "                    )\n",
    "    return option_values[0]\n"
   ]
  },
  {
   "cell_type": "markdown",
   "metadata": {},
   "source": [
    "### European call and put options computed from the Black-Scholes formula\n"
   ]
  },
  {
   "cell_type": "code",
   "execution_count": 6,
   "metadata": {},
   "outputs": [
    {
     "name": "stdout",
     "output_type": "stream",
     "text": [
      "EuCallX1BS: 1.0226152225558849\n",
      "EuPutX1BS: 18.05980466595578\n",
      "EuCallX2BS: 9.222233623917731\n",
      "EuPutX2BS: 2.8519851786376584\n"
     ]
    }
   ],
   "source": [
    "print(\n",
    "    f'EuCallX1BS: {bs(S0, X1, T, r, sigma, \"call\")}',\n",
    ")\n",
    "print(\n",
    "    f'EuPutX1BS: {bs(S0, X1, T, r, sigma, \"put\")}',\n",
    ")\n",
    "\n",
    "print(\n",
    "    f'EuCallX2BS: {bs(S0, X2, T, r, sigma, \"call\")}'\n",
    ")\n",
    "print(\n",
    "    f'EuPutX2BS: {bs(S0, X2, T, r, sigma, \"put\")}',   \n",
    ")\n"
   ]
  },
  {
   "cell_type": "markdown",
   "metadata": {},
   "source": [
    "### European / American call and put options using Binomial trees "
   ]
  },
  {
   "cell_type": "code",
   "execution_count": 7,
   "metadata": {},
   "outputs": [
    {
     "name": "stdout",
     "output_type": "stream",
     "text": [
      "EuCallX1Trees: 1.022732918809888\n",
      "EuPutX1Trees: 18.059922362207374\n",
      "AmCallX1Trees: 1.0244412096645743\n",
      "AmPutX1Trees: 20.0\n",
      "EuCallX2Trees: 9.22338575588147\n",
      "EuPutX2Trees: 2.853137310598421\n",
      "AmCallX2Trees: 9.233737648527985\n",
      "AmPutX2Trees: 2.994488767883997\n"
     ]
    }
   ],
   "source": [
    "print(f'EuCallX1Trees: {trees(S0, X1, T, r, sigma, \"call\")}') #European call with strike X1\n",
    "print(f'EuPutX1Trees: {trees(S0, X1, T, r, sigma, \"put\")}') #European put with strike X1\n",
    "print(f'AmCallX1Trees: {trees(S0, X1, T, r, sigma, \"call\", n=100, american=True)}')#American call with strike X1\n",
    "print(f'AmPutX1Trees: {trees(S0, X1, T, r, sigma, \"put\", n=100, american=True)}')  #American put with strike X1\n",
    "\n",
    "print(f'EuCallX2Trees: {trees(S0, X2, T, r, sigma, \"call\")}') #European call with strike X2\n",
    "print(f'EuPutX2Trees: {trees(S0, X2, T, r, sigma, \"put\")}')  #European put with strike X2\n",
    "print(f'AmCallX2Trees: {trees(S0, X2, T, r, sigma, \"call\", n=100, american=True)}') #American call with strike X2\n",
    "print(f'AmPutX2Trees: {trees(S0, X2, T, r, sigma, \"put\", n=100, american=True)}') #American put with strike X2\n",
    "\n"
   ]
  },
  {
   "cell_type": "code",
   "execution_count": 8,
   "metadata": {},
   "outputs": [
    {
     "name": "stdout",
     "output_type": "stream",
     "text": [
      "European call option price (Binomial Tree) => 120: 1.022732918809888\n",
      "European put option price (Binomial Tree) => 120: 18.059922362207374\n",
      "European call option price (Binomial Tree) => 96: 9.22338575588147\n",
      "European put option price (Binomial Tree) => 96: 2.853137310598421\n",
      "American call option price (Binomial Tree) => 120: 1.0244412096645743\n",
      "American put option price (Binomial Tree) => 120: 20.0\n",
      "American call option price (Binomial Tree) => 96: 9.233737648527985\n",
      "American put option price (Binomial Tree) => 96: 2.994488767883997\n"
     ]
    }
   ],
   "source": [
    "\n",
    "print(\n",
    "    f'European call option price (Binomial Tree) => {X1}:',\n",
    "    trees(S0, X1, T, r, sigma, \"call\"),\n",
    ")\n",
    "print(\n",
    "    f\"European put option price (Binomial Tree) => {X1}:\",\n",
    "    trees(S0, X1, T, r, sigma, \"put\"),\n",
    ")\n",
    "print(\n",
    "    f\"European call option price (Binomial Tree) => {X2}:\",\n",
    "    trees(S0, X2, T, r, sigma, \"call\"),\n",
    ")\n",
    "print(\n",
    "    f\"European put option price (Binomial Tree) => {X2}:\",\n",
    "    trees(S0, X2, T, r, sigma, \"put\"),\n",
    ")\n",
    "print(\n",
    "    f\"American call option price (Binomial Tree) => {X1}:\",\n",
    "    trees(S0, X1, T, r, sigma, \"call\", n=100, american=True),\n",
    ")\n",
    "print(\n",
    "    f\"American put option price (Binomial Tree) => {X1}:\",\n",
    "    trees(S0, X1, T, r, sigma, \"put\", n=100, american=True),\n",
    ")\n",
    "print(\n",
    "    f\"American call option price (Binomial Tree) => {X2}:\",\n",
    "    trees(S0, X2, T, r, sigma, \"call\", n=100, american=True),\n",
    ")\n",
    "print(\n",
    "    f\"American put option price (Binomial Tree) => {X2}:\",\n",
    "    trees(S0, X2, T, r, sigma, \"put\", n=100, american=True),\n",
    ")\n"
   ]
  },
  {
   "cell_type": "markdown",
   "metadata": {},
   "source": [
    "# Monte Carlo Simulations"
   ]
  },
  {
   "cell_type": "code",
   "execution_count": 10,
   "metadata": {},
   "outputs": [
    {
     "name": "stdout",
     "output_type": "stream",
     "text": [
      "EuCallX1MC: 1.0190916590859989\n",
      "EuPutX1MC: 18.06684285179912\n",
      "EuCallX2MC: 9.164929097652038\n",
      "EuPutX2MC: 2.8198603254371504\n",
      "\n",
      "\n",
      "\n",
      "\n",
      "Theoretical European call option 1 price:  1.0226152225558849\n",
      "Monte Carlo European call option 1 price:  1.0190916590859989\n",
      "Theoretical European put option 1 price:  18.05980466595578\n",
      "Monte Carlo European put option 1 price:  18.06684285179912\n",
      "Theoretical European call option 2 price:  9.222233623917731\n",
      "Monte Carlo European call option 2 price:  9.164929097652038\n",
      "Theoretical European put option 2 price:  2.8519851786376584\n",
      "Monte Carlo European put option 2 price:  2.8198603254371504\n"
     ]
    }
   ],
   "source": [
    "call1_bs = bs(S0, X1, T, r, sigma, \"call\")\n",
    "put1_bs = bs(S0, X1, T, r, sigma, \"put\")\n",
    "call2_bs = bs(S0, X2, T, r, sigma, \"call\")\n",
    "put2_bs = bs(S0, X2, T, r, sigma, \"put\")\n",
    "\n",
    "\n",
    "n_simulations = 100000\n",
    "n_steps = 180\n",
    "\n",
    "call1_mc =  montecarlo(S0, X1, T, r, sigma, \"call\", n_simulations, n_steps)\n",
    "put1_mc =  montecarlo(S0, X1, T, r, sigma, \"put\", n_simulations, n_steps)\n",
    "call2_mc =  montecarlo(S0, X2, T, r, sigma, \"call\", n_simulations, n_steps)\n",
    "put2_mc =  montecarlo(S0, X2, T, r, sigma, \"put\", n_simulations, n_steps)\n",
    "\n",
    "print(f'EuCallX1MC: {call1_mc}') #European call with strike X1\n",
    "print(f'EuPutX1MC: {put1_mc}')  #European put with strike X1\n",
    "\n",
    "print(f'EuCallX2MC: {call2_mc}') #European call with strike X2\n",
    "print(f'EuPutX2MC: {put2_mc}')  #European put with strike X2\n",
    "\n",
    "print(\"\\n\\n\\n\")\n",
    "print(\"Theoretical European call option 1 price: \", call1_bs)\n",
    "print(\"Monte Carlo European call option 1 price: \", call1_mc)\n",
    "print(\"Theoretical European put option 1 price: \", put1_bs)\n",
    "print(\"Monte Carlo European put option 1 price: \", put1_mc)\n",
    "print(\"Theoretical European call option 2 price: \", call2_bs)\n",
    "print(\"Monte Carlo European call option 2 price: \", call2_mc)\n",
    "print(\"Theoretical European put option 2 price: \", put2_bs)\n",
    "print(\"Monte Carlo European put option 2 price: \", put2_mc)\n"
   ]
  },
  {
   "cell_type": "code",
   "execution_count": 11,
   "metadata": {},
   "outputs": [
    {
     "data": {
      "image/png": "[encoded data removed]",
      "text/plain": [
       "<Figure size 640x480 with 1 Axes>"
      ]
     },
     "metadata": {},
     "output_type": "display_data"
    }
   ],
   "source": [
    "fig, ax = plt.subplots(1)\n",
    "ax.bar([0, 1, 2, 3], [call1_bs, call2_bs, put1_bs,put2_bs, ])\n",
    "ax.bar([4, 5, 6, 7], [call1_mc, call2_mc, put1_mc, put2_mc])\n",
    "\n",
    "\n",
    "ax.set_xticks([0.5, 4.5])\n",
    "ax.set_xticklabels([\"Option 1\", \"Option 2\"])\n",
    "ax.set_ylabel(\"Option price\")\n",
    "ax.set_title(\"European option prices\")\n",
    "ax.legend(\n",
    "    [\n",
    "        \"Theoretical call\",\n",
    "        \"Monte Carlo call\",\n",
    "        \"Theoretical put\",\n",
    "        \"Monte Carlo put\",\n",
    "    ]\n",
    ")\n",
    "plt.show()\n"
   ]
  },
  {
   "cell_type": "code",
   "execution_count": null,
   "metadata": {},
   "outputs": [],
   "source": []
  },
  {
   "cell_type": "code",
   "execution_count": null,
   "metadata": {},
   "outputs": [],
   "source": []
  }
 ],
 "metadata": {
  "gist_id": "6011986",
  "kernelspec": {
   "display_name": "Python 3 (ipykernel)",
   "language": "python",
   "name": "python3"
  },
  "language_info": {
   "codemirror_mode": {
    "name": "ipython",
    "version": 3
   },
   "file_extension": ".py",
   "mimetype": "text/x-python",
   "name": "python",
   "nbconvert_exporter": "python",
   "pygments_lexer": "ipython3",
   "version": "3.10.9"
  },
  "nbsphinx": {
   "execute": "never"
  }
 },
 "nbformat": 4,
 "nbformat_minor": 1
}
